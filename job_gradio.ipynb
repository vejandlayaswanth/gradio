{
 "cells": [
  {
   "cell_type": "code",
   "execution_count": 10,
   "id": "4e704e96-2411-461b-af13-de82d9579268",
   "metadata": {},
   "outputs": [
    {
     "name": "stdout",
     "output_type": "stream",
     "text": [
      "Running on local URL:  http://127.0.0.1:7867\n",
      "\n",
      "To create a public link, set `share=True` in `launch()`.\n"
     ]
    },
    {
     "data": {
      "text/html": [
       "<div><iframe src=\"http://127.0.0.1:7867/\" width=\"100%\" height=\"500\" allow=\"autoplay; camera; microphone; clipboard-read; clipboard-write;\" frameborder=\"0\" allowfullscreen></iframe></div>"
      ],
      "text/plain": [
       "<IPython.core.display.HTML object>"
      ]
     },
     "metadata": {},
     "output_type": "display_data"
    },
    {
     "data": {
      "text/plain": []
     },
     "execution_count": 10,
     "metadata": {},
     "output_type": "execute_result"
    },
    {
     "name": "stdout",
     "output_type": "stream",
     "text": [
      "IMPORTANT: You are using gradio version 3.41.2, however version 4.44.1 is available, please upgrade.\n",
      "--------\n"
     ]
    },
    {
     "name": "stderr",
     "output_type": "stream",
     "text": [
      "/var/folders/md/yz4wns293812bb6m3pw1zpjm0000gn/T/ipykernel_43818/1748037500.py:94: UserWarning: FigureCanvasAgg is non-interactive, and thus cannot be shown\n",
      "  plt.show()\n",
      "WARNING:  Invalid HTTP request received.\n",
      "WARNING:  Invalid HTTP request received.\n",
      "WARNING:  Invalid HTTP request received.\n"
     ]
    }
   ],
   "source": [
    "import gradio as gr\n",
    "import pandas as pd\n",
    "import matplotlib.pyplot as plt\n",
    "import seaborn as sns\n",
    "\n",
    "main_data=pd.read_csv('/Users/yaswanthkumarvejandla/Downloads/AI ML Engineer/projects/ml_project/ai_job_market.csv')\n",
    "\n",
    "data=main_data.copy()\n",
    "data[['min_salary', 'max_salary']] = data['salary_range_usd'].str.split('-', expand=True)\n",
    "data['min_salary'] = data['min_salary'].astype(int)\n",
    "data['max_salary'] = data['max_salary'].astype(int)\n",
    "data['avg_salary'] = (data['min_salary'] + data['max_salary']) / 2\n",
    "data['posted_date'] = pd.to_datetime(data['posted_date'])\n",
    "\n",
    "\n",
    "all_skills = data['skills_required'].str.split(',\\s*').explode()\n",
    "\n",
    "# Count frequency\n",
    "skill_counts = all_skills.value_counts().head(10)  # top 10 skills\n",
    "\n",
    "tol_tools = data['tools_preferred'].str.split(',\\s*').explode()\n",
    "\n",
    "# Count frequency\n",
    "tool_counts = tol_tools.value_counts().head(10)  # top 10 skills\n",
    "\n",
    "\n",
    "\n",
    "def generate_plot(plot_type):\n",
    "    plt.figure(figsize=(8, 5))\n",
    "   \n",
    "    if plot_type == 'Industry':\n",
    "        plt.figure(figsize=(8,5))\n",
    "        plt.bar(data['industry'].value_counts().index,\n",
    "                data['industry'].value_counts().values,\n",
    "                color='skyblue')\n",
    "        plt.title('Industries')\n",
    "        plt.xlabel('Industry')\n",
    "        plt.ylabel('Count')\n",
    "        plt.xticks(rotation=45)\n",
    "        plt.show()\n",
    "\n",
    "    elif plot_type == 'Job Openings':\n",
    "        plt.figure(figsize=(10,5))\n",
    "        plt.bar(data['experience_level'].value_counts().index,\n",
    "                data['experience_level'].value_counts().values,\n",
    "                color='skyblue')\n",
    "        plt.title(' Number of Job openings')\n",
    "        plt.xlabel('Job Level')\n",
    "        plt.ylabel('Count')\n",
    "        plt.xticks(rotation=45)\n",
    "        plt.show()\n",
    "       \n",
    "    elif plot_type == 'More Openings Sector':\n",
    "        plt.figure(figsize=(10,10))\n",
    "        plt.bar(data['employment_type'].value_counts().index,\n",
    "                data['employment_type'].value_counts().values,\n",
    "                color='skyblue')\n",
    "        plt.title('Employment type which has more openings')\n",
    "        plt.xlabel('Employment type')\n",
    "        plt.ylabel('Count')\n",
    "        plt.xticks(rotation=45)\n",
    "        plt.show()\n",
    "       \n",
    "    elif plot_type == 'sns plot industry':\n",
    "        sns.countplot(x='industry', data=data, palette='Set2')\n",
    "        plt.xticks(rotation=45)\n",
    "        plt.show()\n",
    "       \n",
    "    elif plot_type == 'Average Salary':\n",
    "        plt.hist(data['avg_salary'], bins=30)\n",
    "        sns.histplot(data['avg_salary'], kde=True)\n",
    "\n",
    "    elif plot_type == 'Average salary on  Experience':\n",
    "        sns.boxplot(x='experience_level', y='avg_salary', data=data)\n",
    "\n",
    "    elif plot_type== 'Top 10 Most Required Skills':\n",
    "        plt.figure(figsize=(10,8))\n",
    "        skill_counts.plot(kind='bar', color='skyblue')\n",
    "        plt.title('Top 10 Most Required Skills')\n",
    "        plt.xlabel('Skill')\n",
    "        plt.ylabel('Frequency')\n",
    "        plt.xticks(rotation=45, ha='right')\n",
    "        plt.tight_layout()\n",
    "        plt.show()\n",
    "\n",
    "    elif plot_type == 'Top 10 Most Required tools':\n",
    "        plt.figure(figsize=(10,8))\n",
    "        tool_counts.plot(kind='bar', color='skyblue')\n",
    "        plt.title('Top 10 Most Required tools')\n",
    "        plt.xlabel('tools')\n",
    "        plt.ylabel('Frequency')\n",
    "        plt.xticks(rotation=25, ha='right')\n",
    "        plt.tight_layout()\n",
    "        plt.show()\n",
    "\n",
    "    \n",
    "   \n",
    "    plt.tight_layout()\n",
    "    return plt\n",
    "\n",
    "\n",
    "demo = gr.Interface(\n",
    "    fn=generate_plot,\n",
    "    inputs=gr.Dropdown(choices=['Industry', 'Job Openings', 'More Openings Sector', 'sns plot industry', 'Average Salary','Average salary on  Experience','Top 10 Most Required Skills','Top 10 Most Required tools'], label='Select Plot Type'),\n",
    "    outputs=gr.Plot(label='Generated Plot'),\n",
    "    title='Dynamic Data Visualization with Gradio',\n",
    "    description='Select a plot type to know about jobs trends.'\n",
    ")\n",
    "\n",
    "demo.launch()"
   ]
  },
  {
   "cell_type": "code",
   "execution_count": null,
   "id": "65c2da86-560d-4f9c-83b2-30945fec35cb",
   "metadata": {},
   "outputs": [],
   "source": []
  }
 ],
 "metadata": {
  "kernelspec": {
   "display_name": "Python 3 (ipykernel)",
   "language": "python",
   "name": "python3"
  },
  "language_info": {
   "codemirror_mode": {
    "name": "ipython",
    "version": 3
   },
   "file_extension": ".py",
   "mimetype": "text/x-python",
   "name": "python",
   "nbconvert_exporter": "python",
   "pygments_lexer": "ipython3",
   "version": "3.12.7"
  }
 },
 "nbformat": 4,
 "nbformat_minor": 5
}
